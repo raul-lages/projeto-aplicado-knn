{
 "cells": [
  {
   "cell_type": "markdown",
   "metadata": {},
   "source": [
    "1. Definir as bibliotecas Python"
   ]
  },
  {
   "cell_type": "code",
   "execution_count": 1,
   "metadata": {},
   "outputs": [],
   "source": [
    "import pandas as pd\n",
    "import polars as pl\n",
    "import numpy as np\n",
    "from scipy.sparse import csr_matrix\n",
    "from sklearn.neighbors import NearestNeighbors\n",
    "from sklearn.model_selection import train_test_split\n",
    "import matplotlib.pyplot as plt\n",
    "from sklearn.decomposition import TruncatedSVD\n",
    "from sklearn.metrics import mean_squared_error, mean_absolute_error\n",
    "from tqdm import tqdm\n",
    "import ast"
   ]
  },
  {
   "cell_type": "markdown",
   "metadata": {},
   "source": [
    "2. Carregar o dataset de ratings e info sobre os filmes"
   ]
  },
  {
   "cell_type": "code",
   "execution_count": 2,
   "metadata": {},
   "outputs": [
    {
     "name": "stdout",
     "output_type": "stream",
     "text": [
      "Dataset de metadados de filmes (movie_data) carregado com sucesso.\n"
     ]
    }
   ],
   "source": [
    "try:\n",
    "    movie_data_df = pd.read_csv(\n",
    "        'movie_data.csv',\n",
    "        encoding='ISO-8859-1',\n",
    "        quotechar='\"',\n",
    "        sep=',',\n",
    "        engine='python'\n",
    "    )\n",
    "    print(\"Dataset de metadados de filmes (movie_data) carregado com sucesso.\")\n",
    "except FileNotFoundError:\n",
    "    print(\"Erro: Arquivo 'movie_data.csv' não encontrado.\")\n",
    "    exit()"
   ]
  },
  {
   "cell_type": "code",
   "execution_count": 3,
   "metadata": {},
   "outputs": [
    {
     "name": "stdout",
     "output_type": "stream",
     "text": [
      "                        _id                 genres  \\\n",
      "0  5fc85f606758f69634496fd3  [\"Music\",\"Animation\"]   \n",
      "1  5fc85ff26758f696344ace0c                     []   \n",
      "2  5fc85f606758f69634496fcd              [\"Drama\"]   \n",
      "3  5fc85f606758f69634496fd1              [\"Drama\"]   \n",
      "4  5fc85f606758f69634496fd4        [\"Documentary\"]   \n",
      "\n",
      "                                           image_url    imdb_id  \\\n",
      "0  film-poster/4/6/4/4/4/0/464440-football-freaks...        NaN   \n",
      "1  film-poster/2/4/5/5/0/0/245500-aftermath-0-230...  tt0586129   \n",
      "2  film-poster/9/3/3/1/8/93318-where-chimneys-are...  tt0045731   \n",
      "3                                                NaN  tt0187327   \n",
      "4  film-poster/4/5/4/6/0/3/454603-50-years-of-fab...  tt4769914   \n",
      "\n",
      "                                         imdb_link                 movie_id  \\\n",
      "0                                              NaN          football-freaks   \n",
      "1  http://www.imdb.com/title/tt0586129/maindetails           aftermath-1960   \n",
      "2  http://www.imdb.com/title/tt0045731/maindetails  where-chimneys-are-seen   \n",
      "3  http://www.imdb.com/title/tt0187327/maindetails   the-musicians-daughter   \n",
      "4  http://www.imdb.com/title/tt4769914/maindetails     50-years-of-fabulous   \n",
      "\n",
      "               movie_title original_language  \\\n",
      "0          Football Freaks                en   \n",
      "1                Aftermath                en   \n",
      "2  Where Chimneys Are Seen                ja   \n",
      "3  The Musician's Daughter                en   \n",
      "4     50 Years of Fabulous                en   \n",
      "\n",
      "                                            overview  popularity  \\\n",
      "0  Football crazy, football mad. Donât watch th...       0.600   \n",
      "1  Aftermath was the pilot for an unsold TV serie...       0.600   \n",
      "2  Goshoâs most celebrated film both in Japan a...       1.568   \n",
      "3  Carl Wagner's good wife was dying. His heart b...       0.600   \n",
      "4  50 Years of Fabulous recounts the rich history...       0.600   \n",
      "\n",
      "           production_countries release_date  runtime spoken_languages  \\\n",
      "0            [\"United Kingdom\"]   1971-12-05      0.0               []   \n",
      "1                            []   1960-04-17     22.0               []   \n",
      "2                     [\"Japan\"]   1953-03-05    108.0    [\"æ¥æ¬èª\"]   \n",
      "3  [\"United States of America\"]   1911-12-12     15.0               []   \n",
      "4                            []   2018-05-17     75.0               []   \n",
      "\n",
      "    tmdb_id                                 tmdb_link  vote_average  \\\n",
      "0  535272.0  https://www.themoviedb.org/movie/535272/           0.0   \n",
      "1  318331.0  https://www.themoviedb.org/movie/318331/           8.0   \n",
      "2  117779.0  https://www.themoviedb.org/movie/117779/           6.6   \n",
      "3  560377.0  https://www.themoviedb.org/movie/560377/           0.0   \n",
      "4  525187.0  https://www.themoviedb.org/movie/525187/           0.0   \n",
      "\n",
      "   vote_count  year_released  \n",
      "0         0.0         1971.0  \n",
      "1         1.0         1960.0  \n",
      "2        10.0         1953.0  \n",
      "3         0.0         1911.0  \n",
      "4         0.0         2018.0  \n"
     ]
    }
   ],
   "source": [
    "print(movie_data_df.head(5))"
   ]
  },
  {
   "cell_type": "code",
   "execution_count": 4,
   "metadata": {},
   "outputs": [
    {
     "name": "stdout",
     "output_type": "stream",
     "text": [
      "Dataset de metadados de filmes (ratings_export) carregado com sucesso.\n",
      "                        _id          movie_id  rating_val     user_id\n",
      "0  5fc57c5d6758f6963451a07f        feast-2014           7  deathproof\n",
      "1  5fc57c5d6758f6963451a063       loving-2016           7  deathproof\n",
      "2  5fc57c5d6758f6963451a0ef  scripted-content           7  deathproof\n",
      "3  5fc57c5d6758f6963451a060        the-future           4  deathproof\n",
      "4  5fc57c5c6758f69634519398              mank           5  deathproof\n"
     ]
    }
   ],
   "source": [
    "try:\n",
    "    ratings_df = pd.read_csv(\n",
    "        'ratings_export.csv',\n",
    "        encoding='ISO-8859-1',\n",
    "        quotechar='\"',\n",
    "        sep=',',\n",
    "        engine='python'\n",
    "    )\n",
    "    print(\"Dataset de metadados de filmes (ratings_export) carregado com sucesso.\")\n",
    "except FileNotFoundError:\n",
    "    print(\"Erro: Arquivo 'ratings_export.csv' não encontrado.\")\n",
    "    exit()\n",
    "\n",
    "print(ratings_df.head(5))"
   ]
  },
  {
   "cell_type": "code",
   "execution_count": 5,
   "metadata": {},
   "outputs": [
    {
     "name": "stdout",
     "output_type": "stream",
     "text": [
      "Total de linhas antes da filtragem: 11078167\n",
      "Total de linhas depois da filtragem: 4885108\n"
     ]
    }
   ],
   "source": [
    "# Total de linhas antes da filtragem\n",
    "print(f\"Total de linhas antes da filtragem: {len(ratings_df)}\")\n",
    "\n",
    "# Contagem de quantas vezes cada filme aparece\n",
    "movie_counts = ratings_df['movie_id'].value_counts()\n",
    "\n",
    "# Mantendo apenas filmes com pelo menos 1000 ratings\n",
    "valid_movies = movie_counts[movie_counts >= 1000].index\n",
    "\n",
    "# Filtrando o df\n",
    "filtered_df = ratings_df[ratings_df['movie_id'].isin(valid_movies)]\n",
    "\n",
    "# Total de linhas depois da filtragem\n",
    "print(f\"Total de linhas depois da filtragem: {len(filtered_df)}\")"
   ]
  },
  {
   "cell_type": "markdown",
   "metadata": {},
   "source": [
    "3. Tratamento e Preparação dos Dados de Filmes (movie_data_df)"
   ]
  },
  {
   "cell_type": "markdown",
   "metadata": {},
   "source": [
    "a) Garantir que a coluna 'id' exista e seja do tipo string para o join"
   ]
  },
  {
   "cell_type": "code",
   "execution_count": 6,
   "metadata": {},
   "outputs": [],
   "source": [
    "if 'movie_id' not in movie_data_df.columns:\n",
    "    print(\"Erro: A coluna 'movie_id' não foi encontrada em 'movie_data.csv'. Esta coluna é necessária para o join.\")\n",
    "    exit()\n",
    "movie_data_df['movie_id'] = movie_data_df['movie_id'].astype(str)"
   ]
  },
  {
   "cell_type": "markdown",
   "metadata": {},
   "source": [
    "b) Tratar a coluna 'genres'."
   ]
  },
  {
   "cell_type": "code",
   "execution_count": 7,
   "metadata": {},
   "outputs": [],
   "source": [
    "#    Converte strings como \"['Horror', 'Thriller']\" para listas reais.\n",
    "#    Se já for uma lista, mantém como está.\n",
    "if not movie_data_df.empty and 'genres' in movie_data_df.columns:\n",
    "    def parse_genres(genre_data):\n",
    "        if isinstance(genre_data, str) and genre_data.startswith('[') and genre_data.endswith(']'):\n",
    "            try:\n",
    "                return ast.literal_eval(genre_data)\n",
    "            except (ValueError, SyntaxError):\n",
    "                return [] # Retorna lista vazia em caso de erro de parsing\n",
    "        elif isinstance(genre_data, list):\n",
    "            return genre_data # Já é uma lista\n",
    "        return [] # Default para outros tipos ou formatos inválidos\n",
    "\n",
    "    movie_data_df['genres'] = movie_data_df['genres'].apply(parse_genres)\n",
    "else:\n",
    "    print(\"Aviso: Coluna 'genres' não encontrada ou movie_data_df está vazio. A filtragem por gênero pode não funcionar.\")\n",
    "    # Adicionar uma coluna 'genres' vazia para evitar erros se ela não existir\n",
    "    if 'genres' not in movie_data_df.columns:\n",
    "         movie_data_df['genres'] = pd.Series([[] for _ in range(len(movie_data_df))])\n"
   ]
  },
  {
   "cell_type": "markdown",
   "metadata": {},
   "source": [
    "c) Garantir que a coluna 'runtime' exista, seja numérica e tratar valores ausentes/inválidos"
   ]
  },
  {
   "cell_type": "code",
   "execution_count": 8,
   "metadata": {},
   "outputs": [],
   "source": [
    "if 'runtime' not in movie_data_df.columns:\n",
    "    print(\"Erro: A coluna 'runtime' não foi encontrada em 'movie_data.csv'. Esta coluna é necessária para a filtragem.\")\n",
    "    exit()\n",
    "movie_data_df['runtime'] = pd.to_numeric(movie_data_df['runtime'], errors='coerce')\n",
    "movie_data_df.dropna(subset=['runtime'], inplace=True) # Remove filmes onde runtime não pôde ser convertido para número"
   ]
  },
  {
   "cell_type": "markdown",
   "metadata": {},
   "source": [
    "d) Filtrar movie_data_df: gênero \"Romance\" (case-insensitive) E run_time >= 60"
   ]
  },
  {
   "cell_type": "code",
   "execution_count": 9,
   "metadata": {},
   "outputs": [
    {
     "name": "stdout",
     "output_type": "stream",
     "text": [
      "Número de filmes após filtragem por metadados (romance, >=60min): 19209\n",
      "                         _id                               genres  \\\n",
      "5   5fc85ff26758f696344ace3a                            [Romance]   \n",
      "14  5fc85ff26758f696344acf40                  [Romance, TV Movie]   \n",
      "40  5fc85ff26758f696344acf8d                    [Comedy, Romance]   \n",
      "46  5fc85ff26758f696344ad0b1  [Action, Comedy, Thriller, Romance]   \n",
      "57  5fc85ff26758f696344ace55          [Adventure, Romance, Crime]   \n",
      "\n",
      "                                            image_url    imdb_id  \\\n",
      "5   film-poster/5/6/1/5/2/56152-where-love-has-gon...  tt0058745   \n",
      "14  film-poster/6/7/7/6/5/67765-desperately-seekin...  tt1967688   \n",
      "40  film-poster/3/9/1/0/3/39103-say-it-isn-t-so-0-...  tt0239949   \n",
      "46  film-poster/2/6/6/9/0/26690-killers-0-230-0-34...  tt1103153   \n",
      "57  film-poster/4/1/9/0/8/4/419084-crime-over-lond...  tt0027476   \n",
      "\n",
      "                                          imdb_link  \\\n",
      "5   http://www.imdb.com/title/tt0058745/maindetails   \n",
      "14  http://www.imdb.com/title/tt1967688/maindetails   \n",
      "40  http://www.imdb.com/title/tt0239949/maindetails   \n",
      "46  http://www.imdb.com/title/tt1103153/maindetails   \n",
      "57  http://www.imdb.com/title/tt0027476/maindetails   \n",
      "\n",
      "                     movie_id                movie_title original_language  \\\n",
      "5         where-love-has-gone        Where Love Has Gone                en   \n",
      "14  desperately-seeking-santa  Desperately Seeking Santa                en   \n",
      "40             say-it-isnt-so            Say It Isn't So                en   \n",
      "46               killers-2010                    Killers                en   \n",
      "57          crime-over-london          Crime Over London                en   \n",
      "\n",
      "                                             overview  popularity  \\\n",
      "5   A divorced couple's teen-age daughter stands t...       2.304   \n",
      "14  Jennifer, a young, ambitious executive running...       4.151   \n",
      "40  Boy meets girl; boy falls in love (and had wil...       7.182   \n",
      "46  When an elite assassin marries a beautiful com...      22.918   \n",
      "57  With the police on their tail, a gang of New Y...       0.847   \n",
      "\n",
      "            production_countries release_date  runtime spoken_languages  \\\n",
      "5   [\"United States of America\"]   1964-11-02    111.0      [\"English\"]   \n",
      "14                    [\"Canada\"]   2011-11-27     86.0      [\"English\"]   \n",
      "40  [\"United States of America\"]   2001-03-10     95.0      [\"English\"]   \n",
      "46  [\"United States of America\"]   2010-06-04    100.0      [\"English\"]   \n",
      "57            [\"United Kingdom\"]   1936-10-21     84.0               []   \n",
      "\n",
      "     tmdb_id                                 tmdb_link  vote_average  \\\n",
      "5    73348.0   https://www.themoviedb.org/movie/73348/           6.1   \n",
      "14   81330.0   https://www.themoviedb.org/movie/81330/           6.1   \n",
      "40   20309.0   https://www.themoviedb.org/movie/20309/           4.8   \n",
      "46   37821.0   https://www.themoviedb.org/movie/37821/           5.9   \n",
      "57  488441.0  https://www.themoviedb.org/movie/488441/           0.0   \n",
      "\n",
      "    vote_count  year_released  \n",
      "5         11.0         1964.0  \n",
      "14        43.0         2011.0  \n",
      "40       124.0         2001.0  \n",
      "46      1819.0         2010.0  \n",
      "57         0.0         1936.0  \n"
     ]
    }
   ],
   "source": [
    "#    A função de parse_genres já garante que 'genres' seja uma lista.\n",
    "filtered_movie_data = movie_data_df[\n",
    "    movie_data_df['genres'].apply(lambda genre_list: isinstance(genre_list, list) and \\\n",
    "                                  any('romance' == genre.lower() for genre in genre_list if isinstance(genre, str))) &\n",
    "    (movie_data_df['runtime'] >= 60)\n",
    "]\n",
    "\n",
    "if filtered_movie_data.empty:\n",
    "    print(\"Nenhum filme encontrado nos metadados que satisfaça os critérios (romance, runtime >= 60 min).\")\n",
    "    print(\"O modelo KNN não terá dados de filmes para processar se continuar com este filtro.\")\n",
    "\n",
    "print(f\"Número de filmes após filtragem por metadados (romance, >=60min): {len(filtered_movie_data)}\")\n",
    "\n",
    "print(filtered_movie_data.head(5))"
   ]
  },
  {
   "cell_type": "markdown",
   "metadata": {},
   "source": [
    "4. Juntar ratings_df com filtered_movie_data"
   ]
  },
  {
   "cell_type": "code",
   "execution_count": 10,
   "metadata": {},
   "outputs": [
    {
     "name": "stdout",
     "output_type": "stream",
     "text": [
      "Número de avaliações após o join com filmes filtrados: 1382877\n"
     ]
    }
   ],
   "source": [
    "merged_df = pd.merge(ratings_df, filtered_movie_data, on=\"movie_id\", how=\"inner\")\n",
    "\n",
    "if merged_df.empty:\n",
    "    print(\"Após o join com os filmes filtrados, não restaram avaliações.\")\n",
    "    print(\"O modelo KNN não pode ser construído. Verifique os filtros, os dados de filmes e as avaliações.\")\n",
    "    exit()\n",
    "\n",
    "print(f\"Número de avaliações após o join com filmes filtrados: {merged_df.shape[0]}\")"
   ]
  },
  {
   "cell_type": "markdown",
   "metadata": {},
   "source": [
    "5. Filtrando por filmes avaliados por usuários que fizeram mais de 1000 reviews"
   ]
  },
  {
   "cell_type": "code",
   "execution_count": 11,
   "metadata": {},
   "outputs": [
    {
     "name": "stdout",
     "output_type": "stream",
     "text": [
      "Total de linhas antes da filtragem: 547771\n",
      "Total de linhas depois da filtragem: 150560\n"
     ]
    }
   ],
   "source": [
    "# Contagem de quantas vezes cada movie_id aparece\n",
    "movie_counts = merged_df['movie_id'].value_counts()\n",
    "\n",
    "# Apenas movies com pelo menos 1000 avaliações\n",
    "valid_movies = movie_counts[movie_counts >= 1000].index\n",
    "\n",
    "# Filtrando o DataFrame\n",
    "filtered_df = merged_df[merged_df['movie_id'].isin(valid_movies)]\n",
    "\n",
    "# Total de linhas antes da filtragem\n",
    "print(f\"Total de linhas antes da filtragem: {len(filtered_df)}\")\n",
    "\n",
    "## Aplicando \n",
    "\n",
    "# Contagem de quantas vezes cada user_id aparece\n",
    "user_counts = merged_df['user_id'].value_counts()\n",
    "\n",
    "# Apenas users com pelo menos 1000 avaliações\n",
    "valid_users = user_counts[user_counts >= 1000].index\n",
    "\n",
    "# Filtrando o DataFrame\n",
    "filtered_df = merged_df[merged_df['user_id'].isin(valid_users)]\n",
    "\n",
    "# Total de linhas depois da filtragem\n",
    "print(f\"Total de linhas depois da filtragem: {len(filtered_df)}\")"
   ]
  },
  {
   "cell_type": "markdown",
   "metadata": {},
   "source": [
    "6. Construção da matriz usuário-filme"
   ]
  },
  {
   "cell_type": "code",
   "execution_count": 12,
   "metadata": {},
   "outputs": [
    {
     "name": "stdout",
     "output_type": "stream",
     "text": [
      "Matriz de dimensão (99, 15111) criada com sucesso.\n"
     ]
    }
   ],
   "source": [
    "# Agrupar por (user_id, movie_id) e calcular média de rating\n",
    "ratings_grouped = filtered_df.groupby(['user_id', 'movie_id'])['rating_val'].mean().reset_index()\n",
    "\n",
    "# Mapear user_id e movie_id para índices\n",
    "user_to_index = {uid: idx for idx, uid in enumerate(ratings_grouped['user_id'].unique())}\n",
    "movie_to_index = {mid: idx for idx, mid in enumerate(ratings_grouped['movie_id'].unique())}\n",
    "\n",
    "ratings_grouped['user_idx'] = ratings_grouped['user_id'].map(user_to_index)\n",
    "ratings_grouped['movie_idx'] = ratings_grouped['movie_id'].map(movie_to_index)\n",
    "\n",
    "# Criar matriz esparsa (usuarios x filmes)\n",
    "n_users = len(user_to_index)\n",
    "n_movies = len(movie_to_index)\n",
    "matrix = csr_matrix((ratings_grouped['rating_val'], \n",
    "                     (ratings_grouped['user_idx'], ratings_grouped['movie_idx'])), \n",
    "                    shape=(n_users, n_movies))\n",
    "\n",
    "print(f\"Matriz de dimensão {matrix.shape} criada com sucesso.\")"
   ]
  },
  {
   "cell_type": "markdown",
   "metadata": {},
   "source": [
    "7. Método do cotovelo para ajustar k"
   ]
  },
  {
   "cell_type": "code",
   "execution_count": 13,
   "metadata": {},
   "outputs": [
    {
     "data": {
      "image/png": "[encoded data removed]",
      "text/plain": [
       "<Figure size 1000x500 with 1 Axes>"
      ]
     },
     "metadata": {},
     "output_type": "display_data"
    }
   ],
   "source": [
    "distances = []\n",
    "k_range = range(2, 21)\n",
    "\n",
    "for k in k_range:\n",
    "    knn = NearestNeighbors(n_neighbors=k, metric='cosine', algorithm='brute')\n",
    "    knn.fit(matrix)\n",
    "    dists, _ = knn.kneighbors(matrix)\n",
    "    mean_distance = np.mean(dists[:, 1:])  # Exclui o 0 (autovizinho)\n",
    "    distances.append(mean_distance)\n",
    "\n",
    "plt.figure(figsize=(10, 5))\n",
    "plt.plot(k_range, distances, marker='o')\n",
    "plt.title('Método do Cotovelo para definição de k')\n",
    "plt.xlabel('Número de vizinhos (k)')\n",
    "plt.ylabel('Distância média aos vizinhos')\n",
    "plt.grid(True)\n",
    "plt.show()\n"
   ]
  },
  {
   "cell_type": "markdown",
   "metadata": {},
   "source": [
    "8. Redução de Dimensionalidade com SVD"
   ]
  },
  {
   "cell_type": "code",
   "execution_count": 14,
   "metadata": {},
   "outputs": [
    {
     "name": "stdout",
     "output_type": "stream",
     "text": [
      "Dimensão original: (99, 15111)\n",
      "Dimensão após SVD: (99, 10)\n"
     ]
    }
   ],
   "source": [
    "svd = TruncatedSVD(n_components=10)\n",
    "matrix_reduced = svd.fit_transform(matrix)\n",
    "\n",
    "print(\"Dimensão original:\", matrix.shape)\n",
    "print(\"Dimensão após SVD:\", matrix_reduced.shape)\n"
   ]
  },
  {
   "cell_type": "markdown",
   "metadata": {},
   "source": [
    "9. Aplicação das métricas RMSE, MAE e SSE"
   ]
  },
  {
   "cell_type": "code",
   "execution_count": 15,
   "metadata": {},
   "outputs": [
    {
     "name": "stdout",
     "output_type": "stream",
     "text": [
      "\n",
      "--- Iniciando Avaliação Detalhada do Modelo ---\n"
     ]
    }
   ],
   "source": [
    "# Avaliação Detalhada do Modelo começa aqui\n",
    "print(\"\\n--- Iniciando Avaliação Detalhada do Modelo ---\")\n",
    "\n",
    "# 1. Separar os dados em treino e teste\n",
    "# filtered_df é o DataFrame com 150560 linhas após todas as filtragens (genre = romance, runtime >= 60, filmes e usuários com mais de 1000 avaliações).\n",
    "train_df, test_df = train_test_split(filtered_df, test_size=0.2, random_state=42) #\n",
    "\n",
    "k_neighbors_eval = 7  # K para o KNN na avaliação, baseado no método do cotovelo. Aqui poderíamos ter tentando outros valores, mas limitações de hardware nos impediram.\n",
    "n_svd_components_eval = 10 # Número de componentes para SVD na avaliação.\n",
    "\n",
    "# DataFrame para armazenar os resultados da avaliação\n",
    "results_list = []"
   ]
  },
  {
   "cell_type": "markdown",
   "metadata": {},
   "source": [
    "10. Selecionando as métricas"
   ]
  },
  {
   "cell_type": "code",
   "execution_count": 16,
   "metadata": {},
   "outputs": [
    {
     "name": "stdout",
     "output_type": "stream",
     "text": [
      "Métricas criadas.\n"
     ]
    }
   ],
   "source": [
    "scenarios = []\n",
    "metrics_to_test = ['cosine', 'euclidean'] # Métricas de similaridade escolhidas\n",
    "\n",
    "for metric_name in metrics_to_test:\n",
    "    scenarios.append({'name': f'KNN Original - Métrica: {metric_name}', \n",
    "                      'use_svd': False, \n",
    "                      'metric': metric_name})\n",
    "    scenarios.append({'name': f'KNN com SVD - Métrica: {metric_name}', \n",
    "                      'use_svd': True, \n",
    "                      'metric': metric_name})\n",
    "\n",
    "print(\"Métricas criadas.\")"
   ]
  },
  {
   "cell_type": "markdown",
   "metadata": {},
   "source": [
    "11. Rodando o KNN e Resultados"
   ]
  },
  {
   "cell_type": "code",
   "execution_count": 17,
   "metadata": {},
   "outputs": [
    {
     "name": "stdout",
     "output_type": "stream",
     "text": [
      "\n",
      "Avaliando cenário: KNN Original - Métrica: cosine\n"
     ]
    },
    {
     "name": "stdout",
     "output_type": "stream",
     "text": [
      "  Realizando predições no conjunto de teste...\n"
     ]
    },
    {
     "name": "stderr",
     "output_type": "stream",
     "text": [
      "  Progresso Predições: 100%|██████████| 30112/30112 [08:36<00:00, 58.27pred/s]\n",
      "c:\\Users\\Raul\\AppData\\Local\\Programs\\Python\\Python311\\Lib\\site-packages\\sklearn\\metrics\\_regression.py:483: FutureWarning: 'squared' is deprecated in version 1.4 and will be removed in 1.6. To calculate the root mean squared error, use the function'root_mean_squared_error'.\n",
      "  warnings.warn(\n"
     ]
    },
    {
     "name": "stdout",
     "output_type": "stream",
     "text": [
      "\n",
      "    Resultados para KNN Original - Métrica: cosine:\n",
      "      RMSE: 1.7347\n",
      "      MAE: 1.3301\n",
      "      SSE: 72469.1453\n",
      "      Número de Predições Válidas: 24084\n",
      "\n",
      "Avaliando cenário: KNN com SVD - Métrica: cosine\n",
      "  Realizando predições no conjunto de teste...\n"
     ]
    },
    {
     "name": "stderr",
     "output_type": "stream",
     "text": [
      "  Progresso Predições: 100%|██████████| 30112/30112 [01:53<00:00, 266.02pred/s]\n",
      "c:\\Users\\Raul\\AppData\\Local\\Programs\\Python\\Python311\\Lib\\site-packages\\sklearn\\metrics\\_regression.py:483: FutureWarning: 'squared' is deprecated in version 1.4 and will be removed in 1.6. To calculate the root mean squared error, use the function'root_mean_squared_error'.\n",
      "  warnings.warn(\n"
     ]
    },
    {
     "name": "stdout",
     "output_type": "stream",
     "text": [
      "\n",
      "    Resultados para KNN com SVD - Métrica: cosine:\n",
      "      RMSE: 1.7608\n",
      "      MAE: 1.3543\n",
      "      SSE: 71276.0319\n",
      "      Número de Predições Válidas: 22989\n",
      "\n",
      "Avaliando cenário: KNN Original - Métrica: euclidean\n",
      "  Realizando predições no conjunto de teste...\n"
     ]
    },
    {
     "name": "stderr",
     "output_type": "stream",
     "text": [
      "  Progresso Predições: 100%|██████████| 30112/30112 [12:27<00:00, 40.28pred/s]\n",
      "c:\\Users\\Raul\\AppData\\Local\\Programs\\Python\\Python311\\Lib\\site-packages\\sklearn\\metrics\\_regression.py:483: FutureWarning: 'squared' is deprecated in version 1.4 and will be removed in 1.6. To calculate the root mean squared error, use the function'root_mean_squared_error'.\n",
      "  warnings.warn(\n"
     ]
    },
    {
     "name": "stdout",
     "output_type": "stream",
     "text": [
      "\n",
      "    Resultados para KNN Original - Métrica: euclidean:\n",
      "      RMSE: 1.8534\n",
      "      MAE: 1.4411\n",
      "      SSE: 72971.5519\n",
      "      Número de Predições Válidas: 21244\n",
      "\n",
      "Avaliando cenário: KNN com SVD - Métrica: euclidean\n",
      "  Realizando predições no conjunto de teste...\n"
     ]
    },
    {
     "name": "stderr",
     "output_type": "stream",
     "text": [
      "  Progresso Predições: 100%|██████████| 30112/30112 [06:32<00:00, 76.65pred/s]\n",
      "c:\\Users\\Raul\\AppData\\Local\\Programs\\Python\\Python311\\Lib\\site-packages\\sklearn\\metrics\\_regression.py:483: FutureWarning: 'squared' is deprecated in version 1.4 and will be removed in 1.6. To calculate the root mean squared error, use the function'root_mean_squared_error'.\n",
      "  warnings.warn(\n"
     ]
    },
    {
     "name": "stdout",
     "output_type": "stream",
     "text": [
      "\n",
      "    Resultados para KNN com SVD - Métrica: euclidean:\n",
      "      RMSE: 1.7425\n",
      "      MAE: 1.3403\n",
      "      SSE: 69231.4003\n",
      "      Número de Predições Válidas: 22802\n"
     ]
    }
   ],
   "source": [
    "for scenario in scenarios:\n",
    "    print(f\"\\nAvaliando cenário: {scenario['name']}\")\n",
    "    \n",
    "    y_true = []\n",
    "    y_pred = []\n",
    "    \n",
    "    try:\n",
    "        train_user_item_matrix = train_df.pivot(index='user_id', \n",
    "                                                columns='movie_id', \n",
    "                                                values='rating_val').fillna(0)\n",
    "        if train_user_item_matrix.empty:\n",
    "            print(\"  Matriz de treino usuário-item está vazia. Pulando cenário.\")\n",
    "            continue\n",
    "    except Exception as e:\n",
    "        print(f\"  Erro ao criar matriz de treino para o cenário: {e}. Pulando.\")\n",
    "        continue\n",
    "\n",
    "    knn_model = NearestNeighbors(n_neighbors=k_neighbors_eval, \n",
    "                                 metric=scenario['metric'], \n",
    "                                 algorithm='brute')\n",
    "    \n",
    "    svd_transformer = None \n",
    "\n",
    "    if scenario['use_svd']:\n",
    "        if train_user_item_matrix.shape[1] < n_svd_components_eval:\n",
    "            print(f\"  Número de filmes na matriz de treino ({train_user_item_matrix.shape[1]}) é menor que n_components SVD ({n_svd_components_eval}). Pulando cenário SVD.\")\n",
    "            results_list.append({'Cenário': scenario['name'], 'RMSE': np.nan, 'MAE': np.nan, 'SSE': np.nan, 'Num_Predições': 0, 'Comentário': 'Menos filmes que componentes SVD'})\n",
    "            continue\n",
    "            \n",
    "        svd_transformer = TruncatedSVD(n_components=n_svd_components_eval, random_state=42)\n",
    "        try:\n",
    "            data_for_knn_fit = svd_transformer.fit_transform(train_user_item_matrix.values) # This line is updated\n",
    "            knn_model.fit(data_for_knn_fit) \n",
    "        except Exception as e:\n",
    "            print(f\"  Erro ao treinar SVD/KNN para o cenário: {e}. Pulando.\")\n",
    "            results_list.append({'Cenário': scenario['name'], 'RMSE': np.nan, 'MAE': np.nan, 'SSE': np.nan, 'Num_Predições': 0, 'Comentário': f'Erro SVD/KNN: {e}'})\n",
    "            continue\n",
    "    else:\n",
    "        try:\n",
    "            data_for_knn_fit = train_user_item_matrix.values \n",
    "            knn_model.fit(data_for_knn_fit)\n",
    "        except Exception as e:\n",
    "            print(f\"  Erro ao treinar KNN para o cenário: {e}. Pulando.\")\n",
    "            results_list.append({'Cenário': scenario['name'], 'RMSE': np.nan, 'MAE': np.nan, 'SSE': np.nan, 'Num_Predições': 0, 'Comentário': f'Erro KNN: {e}'})\n",
    "            continue\n",
    "\n",
    "    # 4. Previsões para o conjunto de teste\n",
    "    # O pacote tqdm foi aplicado aqui para criar a barra de progresso\n",
    "    # desc fornecerá uma descrição para a barra de progresso\n",
    "    # unit=\"pred\" mostrará a unidade como \"predições\"\n",
    "    print(\"  Realizando predições no conjunto de teste...\")\n",
    "    for _, row in tqdm(test_df.iterrows(), total=test_df.shape[0], desc=\"  Progresso Predições\", unit=\"pred\"):\n",
    "        user_id_test = row['user_id']\n",
    "        movie_id_test = row['movie_id']\n",
    "        actual_rating = row['rating_val'] \n",
    "\n",
    "        predicted_rating = np.nan\n",
    "\n",
    "        if user_id_test not in train_user_item_matrix.index:\n",
    "            continue \n",
    "        \n",
    "        if movie_id_test not in train_user_item_matrix.columns:\n",
    "            continue\n",
    "\n",
    "        user_vector_original_ratings = train_user_item_matrix.loc[user_id_test].values.reshape(1, -1)\n",
    "\n",
    "        try:\n",
    "            if scenario['use_svd']:\n",
    "                if svd_transformer: \n",
    "                    user_vector_eval = svd_transformer.transform(user_vector_original_ratings)\n",
    "                else: \n",
    "                    continue\n",
    "            else:\n",
    "                user_vector_eval = user_vector_original_ratings\n",
    "            \n",
    "            distances, indices = knn_model.kneighbors(user_vector_eval, n_neighbors=k_neighbors_eval)\n",
    "            \n",
    "            neighbor_indices_in_train_matrix = indices[0]\n",
    "            \n",
    "            neighbor_ratings = train_user_item_matrix.iloc[neighbor_indices_in_train_matrix][movie_id_test]\n",
    "            \n",
    "            valid_ratings = neighbor_ratings[neighbor_ratings > 0] \n",
    "            \n",
    "            if not valid_ratings.empty:\n",
    "                predicted_rating = valid_ratings.mean()\n",
    "        \n",
    "        except KeyError: \n",
    "            pass\n",
    "        except Exception as e:\n",
    "            # print(f\"  Alerta durante predição para user {user_id_test}, movie {movie_id_test}: {e}\")\n",
    "            pass\n",
    "            \n",
    "        if not np.isnan(predicted_rating):\n",
    "            y_true.append(actual_rating)\n",
    "            y_pred.append(predicted_rating)\n",
    "\n",
    "    # (Restante do código para calcular métricas e adicionar à results_list)\n",
    "    if len(y_true) > 0:\n",
    "        rmse = mean_squared_error(y_true, y_pred, squared=False)\n",
    "        mae = mean_absolute_error(y_true, y_pred)\n",
    "        sse = ((np.array(y_true) - np.array(y_pred)) ** 2).sum()\n",
    "        print(f\"\\n    Resultados para {scenario['name']}:\") \n",
    "        print(f\"      RMSE: {rmse:.4f}\")\n",
    "        print(f\"      MAE: {mae:.4f}\")\n",
    "        print(f\"      SSE: {sse:.4f}\")\n",
    "        print(f\"      Número de Predições Válidas: {len(y_true)}\")\n",
    "        results_list.append({'Cenário': scenario['name'], \n",
    "                             'RMSE': rmse, 'MAE': mae, 'SSE': sse, \n",
    "                             'Num_Predições': len(y_true), 'Comentário': 'Sucesso'})\n",
    "    else:\n",
    "        print(f\"\\n  Nenhuma predição válida foi feita para o cenário: {scenario['name']}.\")\n",
    "        results_list.append({'Cenário': scenario['name'], \n",
    "                             'RMSE': np.nan, 'MAE': np.nan, 'SSE': np.nan, \n",
    "                             'Num_Predições': 0, 'Comentário': 'Sem predições válidas'})\n"
   ]
  },
  {
   "cell_type": "markdown",
   "metadata": {},
   "source": [
    "12. Resultados"
   ]
  },
  {
   "cell_type": "code",
   "execution_count": 18,
   "metadata": {},
   "outputs": [
    {
     "name": "stdout",
     "output_type": "stream",
     "text": [
      "\n",
      "\n",
      "--- Tabela Comparativa de Resultados da Avaliação ---\n",
      "                             Cenário      RMSE       MAE           SSE  Num_Predições Comentário\n",
      "0     KNN Original - Métrica: cosine  1.734652  1.330052  72469.145278          24084    Sucesso\n",
      "1      KNN com SVD - Métrica: cosine  1.760807  1.354253  71276.031944          22989    Sucesso\n",
      "2  KNN Original - Métrica: euclidean  1.853355  1.441059  72971.551944          21244    Sucesso\n",
      "3   KNN com SVD - Métrica: euclidean  1.742469  1.340328  69231.400278          22802    Sucesso\n"
     ]
    }
   ],
   "source": [
    "# Exibir tabela comparativa de resultados\n",
    "results_df = pd.DataFrame(results_list)\n",
    "print(\"\\n\\n--- Tabela Comparativa de Resultados da Avaliação ---\")\n",
    "print(results_df.to_string())"
   ]
  }
 ],
 "metadata": {
  "kernelspec": {
   "display_name": "Python 3",
   "language": "python",
   "name": "python3"
  },
  "language_info": {
   "codemirror_mode": {
    "name": "ipython",
    "version": 3
   },
   "file_extension": ".py",
   "mimetype": "text/x-python",
   "name": "python",
   "nbconvert_exporter": "python",
   "pygments_lexer": "ipython3",
   "version": "3.11.4"
  },
  "orig_nbformat": 4
 },
 "nbformat": 4,
 "nbformat_minor": 2
}
